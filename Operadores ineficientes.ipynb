{
 "cells": [
  {
   "cell_type": "markdown",
   "metadata": {},
   "source": [
    "# Operadores ineficientes"
   ]
  },
  {
   "cell_type": "markdown",
   "metadata": {},
   "source": [
    "En este proyecto analizamos datos de llamadas de una compañía de telecomunicaciones con el fin de identificar posibles ineficiencias en el desempeño de los operadores.\n",
    "\n",
    "El conjunto de datos incluye dos fuentes principales:\n",
    "\n",
    "* **calls.csv**: información sobre llamadas (entrantes, salientes, duración, si fueron atendidas o no, operador asignado).\n",
    "* **clients.csv**: información básica de clientes y sus planes tarifarios.\n",
    "\n",
    "El análisis sigue varias etapas:\n",
    "\n",
    "1. **Carga y exploración inicial**: detección de nulos, distribución de variables clave.\n",
    "2. **Procesamiento de datos**: cálculo de métricas de eficiencia (tasa de llamadas perdidas, tiempo de espera, proporción de llamadas salientes).\n",
    "3. **Clasificación de operadores ineficientes**: con criterios fijos y relativos (percentiles).\n",
    "4. **Comparación por planes tarifarios**: pruebas estadísticas para identificar posibles diferencias.\n",
    "5. **Correlaciones y visualizaciones**: exploración de relaciones entre métricas clave.\n",
    "\n",
    "El objetivo es proporcionar recomendaciones basadas en datos que permitan a la empresa focalizar sus esfuerzos de mejora en operadores o procesos específicos, sin necesidad de rediseñar todo el sistema.\n",
    "\n",
    "Link Presentación: https://drive.google.com/file/d/1E0-xbwimlykQo_9DEqu_ugEwaEhwQ0lF/view?usp=sharing"
   ]
  },
  {
   "cell_type": "code",
   "execution_count": 3,
   "metadata": {},
   "outputs": [],
   "source": [
    "#Librerias\n",
    "import pandas as pd\n",
    "import numpy as np\n",
    "import matplotlib.pyplot as plt\n",
    "from scipy import stats\n",
    "import statsmodels.api as sm\n",
    "from statsmodels.formula.api import ols\n",
    "import os"
   ]
  },
  {
   "cell_type": "markdown",
   "metadata": {},
   "source": [
    "## Importación y preparación de datos"
   ]
  },
  {
   "cell_type": "code",
   "execution_count": 4,
   "metadata": {},
   "outputs": [
    {
     "ename": "FileNotFoundError",
     "evalue": "[Errno 2] No such file or directory: 'telecom_clients.csv'",
     "output_type": "error",
     "traceback": [
      "\u001b[0;31m---------------------------------------------------------------------------\u001b[0m",
      "\u001b[0;31mFileNotFoundError\u001b[0m                         Traceback (most recent call last)",
      "Cell \u001b[0;32mIn[4], line 1\u001b[0m\n\u001b[0;32m----> 1\u001b[0m clients \u001b[38;5;241m=\u001b[39m pd\u001b[38;5;241m.\u001b[39mread_csv(\u001b[38;5;124m\"\u001b[39m\u001b[38;5;124mtelecom_clients.csv\u001b[39m\u001b[38;5;124m\"\u001b[39m)\n\u001b[1;32m      3\u001b[0m calls \u001b[38;5;241m=\u001b[39m pd\u001b[38;5;241m.\u001b[39mread_csv(\u001b[38;5;124m\"\u001b[39m\u001b[38;5;124mtelecom_dataset_new.csv\u001b[39m\u001b[38;5;124m\"\u001b[39m)\n",
      "File \u001b[0;32m/opt/anaconda3/lib/python3.12/site-packages/pandas/io/parsers/readers.py:1026\u001b[0m, in \u001b[0;36mread_csv\u001b[0;34m(filepath_or_buffer, sep, delimiter, header, names, index_col, usecols, dtype, engine, converters, true_values, false_values, skipinitialspace, skiprows, skipfooter, nrows, na_values, keep_default_na, na_filter, verbose, skip_blank_lines, parse_dates, infer_datetime_format, keep_date_col, date_parser, date_format, dayfirst, cache_dates, iterator, chunksize, compression, thousands, decimal, lineterminator, quotechar, quoting, doublequote, escapechar, comment, encoding, encoding_errors, dialect, on_bad_lines, delim_whitespace, low_memory, memory_map, float_precision, storage_options, dtype_backend)\u001b[0m\n\u001b[1;32m   1013\u001b[0m kwds_defaults \u001b[38;5;241m=\u001b[39m _refine_defaults_read(\n\u001b[1;32m   1014\u001b[0m     dialect,\n\u001b[1;32m   1015\u001b[0m     delimiter,\n\u001b[0;32m   (...)\u001b[0m\n\u001b[1;32m   1022\u001b[0m     dtype_backend\u001b[38;5;241m=\u001b[39mdtype_backend,\n\u001b[1;32m   1023\u001b[0m )\n\u001b[1;32m   1024\u001b[0m kwds\u001b[38;5;241m.\u001b[39mupdate(kwds_defaults)\n\u001b[0;32m-> 1026\u001b[0m \u001b[38;5;28;01mreturn\u001b[39;00m _read(filepath_or_buffer, kwds)\n",
      "File \u001b[0;32m/opt/anaconda3/lib/python3.12/site-packages/pandas/io/parsers/readers.py:620\u001b[0m, in \u001b[0;36m_read\u001b[0;34m(filepath_or_buffer, kwds)\u001b[0m\n\u001b[1;32m    617\u001b[0m _validate_names(kwds\u001b[38;5;241m.\u001b[39mget(\u001b[38;5;124m\"\u001b[39m\u001b[38;5;124mnames\u001b[39m\u001b[38;5;124m\"\u001b[39m, \u001b[38;5;28;01mNone\u001b[39;00m))\n\u001b[1;32m    619\u001b[0m \u001b[38;5;66;03m# Create the parser.\u001b[39;00m\n\u001b[0;32m--> 620\u001b[0m parser \u001b[38;5;241m=\u001b[39m TextFileReader(filepath_or_buffer, \u001b[38;5;241m*\u001b[39m\u001b[38;5;241m*\u001b[39mkwds)\n\u001b[1;32m    622\u001b[0m \u001b[38;5;28;01mif\u001b[39;00m chunksize \u001b[38;5;129;01mor\u001b[39;00m iterator:\n\u001b[1;32m    623\u001b[0m     \u001b[38;5;28;01mreturn\u001b[39;00m parser\n",
      "File \u001b[0;32m/opt/anaconda3/lib/python3.12/site-packages/pandas/io/parsers/readers.py:1620\u001b[0m, in \u001b[0;36mTextFileReader.__init__\u001b[0;34m(self, f, engine, **kwds)\u001b[0m\n\u001b[1;32m   1617\u001b[0m     \u001b[38;5;28mself\u001b[39m\u001b[38;5;241m.\u001b[39moptions[\u001b[38;5;124m\"\u001b[39m\u001b[38;5;124mhas_index_names\u001b[39m\u001b[38;5;124m\"\u001b[39m] \u001b[38;5;241m=\u001b[39m kwds[\u001b[38;5;124m\"\u001b[39m\u001b[38;5;124mhas_index_names\u001b[39m\u001b[38;5;124m\"\u001b[39m]\n\u001b[1;32m   1619\u001b[0m \u001b[38;5;28mself\u001b[39m\u001b[38;5;241m.\u001b[39mhandles: IOHandles \u001b[38;5;241m|\u001b[39m \u001b[38;5;28;01mNone\u001b[39;00m \u001b[38;5;241m=\u001b[39m \u001b[38;5;28;01mNone\u001b[39;00m\n\u001b[0;32m-> 1620\u001b[0m \u001b[38;5;28mself\u001b[39m\u001b[38;5;241m.\u001b[39m_engine \u001b[38;5;241m=\u001b[39m \u001b[38;5;28mself\u001b[39m\u001b[38;5;241m.\u001b[39m_make_engine(f, \u001b[38;5;28mself\u001b[39m\u001b[38;5;241m.\u001b[39mengine)\n",
      "File \u001b[0;32m/opt/anaconda3/lib/python3.12/site-packages/pandas/io/parsers/readers.py:1880\u001b[0m, in \u001b[0;36mTextFileReader._make_engine\u001b[0;34m(self, f, engine)\u001b[0m\n\u001b[1;32m   1878\u001b[0m     \u001b[38;5;28;01mif\u001b[39;00m \u001b[38;5;124m\"\u001b[39m\u001b[38;5;124mb\u001b[39m\u001b[38;5;124m\"\u001b[39m \u001b[38;5;129;01mnot\u001b[39;00m \u001b[38;5;129;01min\u001b[39;00m mode:\n\u001b[1;32m   1879\u001b[0m         mode \u001b[38;5;241m+\u001b[39m\u001b[38;5;241m=\u001b[39m \u001b[38;5;124m\"\u001b[39m\u001b[38;5;124mb\u001b[39m\u001b[38;5;124m\"\u001b[39m\n\u001b[0;32m-> 1880\u001b[0m \u001b[38;5;28mself\u001b[39m\u001b[38;5;241m.\u001b[39mhandles \u001b[38;5;241m=\u001b[39m get_handle(\n\u001b[1;32m   1881\u001b[0m     f,\n\u001b[1;32m   1882\u001b[0m     mode,\n\u001b[1;32m   1883\u001b[0m     encoding\u001b[38;5;241m=\u001b[39m\u001b[38;5;28mself\u001b[39m\u001b[38;5;241m.\u001b[39moptions\u001b[38;5;241m.\u001b[39mget(\u001b[38;5;124m\"\u001b[39m\u001b[38;5;124mencoding\u001b[39m\u001b[38;5;124m\"\u001b[39m, \u001b[38;5;28;01mNone\u001b[39;00m),\n\u001b[1;32m   1884\u001b[0m     compression\u001b[38;5;241m=\u001b[39m\u001b[38;5;28mself\u001b[39m\u001b[38;5;241m.\u001b[39moptions\u001b[38;5;241m.\u001b[39mget(\u001b[38;5;124m\"\u001b[39m\u001b[38;5;124mcompression\u001b[39m\u001b[38;5;124m\"\u001b[39m, \u001b[38;5;28;01mNone\u001b[39;00m),\n\u001b[1;32m   1885\u001b[0m     memory_map\u001b[38;5;241m=\u001b[39m\u001b[38;5;28mself\u001b[39m\u001b[38;5;241m.\u001b[39moptions\u001b[38;5;241m.\u001b[39mget(\u001b[38;5;124m\"\u001b[39m\u001b[38;5;124mmemory_map\u001b[39m\u001b[38;5;124m\"\u001b[39m, \u001b[38;5;28;01mFalse\u001b[39;00m),\n\u001b[1;32m   1886\u001b[0m     is_text\u001b[38;5;241m=\u001b[39mis_text,\n\u001b[1;32m   1887\u001b[0m     errors\u001b[38;5;241m=\u001b[39m\u001b[38;5;28mself\u001b[39m\u001b[38;5;241m.\u001b[39moptions\u001b[38;5;241m.\u001b[39mget(\u001b[38;5;124m\"\u001b[39m\u001b[38;5;124mencoding_errors\u001b[39m\u001b[38;5;124m\"\u001b[39m, \u001b[38;5;124m\"\u001b[39m\u001b[38;5;124mstrict\u001b[39m\u001b[38;5;124m\"\u001b[39m),\n\u001b[1;32m   1888\u001b[0m     storage_options\u001b[38;5;241m=\u001b[39m\u001b[38;5;28mself\u001b[39m\u001b[38;5;241m.\u001b[39moptions\u001b[38;5;241m.\u001b[39mget(\u001b[38;5;124m\"\u001b[39m\u001b[38;5;124mstorage_options\u001b[39m\u001b[38;5;124m\"\u001b[39m, \u001b[38;5;28;01mNone\u001b[39;00m),\n\u001b[1;32m   1889\u001b[0m )\n\u001b[1;32m   1890\u001b[0m \u001b[38;5;28;01massert\u001b[39;00m \u001b[38;5;28mself\u001b[39m\u001b[38;5;241m.\u001b[39mhandles \u001b[38;5;129;01mis\u001b[39;00m \u001b[38;5;129;01mnot\u001b[39;00m \u001b[38;5;28;01mNone\u001b[39;00m\n\u001b[1;32m   1891\u001b[0m f \u001b[38;5;241m=\u001b[39m \u001b[38;5;28mself\u001b[39m\u001b[38;5;241m.\u001b[39mhandles\u001b[38;5;241m.\u001b[39mhandle\n",
      "File \u001b[0;32m/opt/anaconda3/lib/python3.12/site-packages/pandas/io/common.py:873\u001b[0m, in \u001b[0;36mget_handle\u001b[0;34m(path_or_buf, mode, encoding, compression, memory_map, is_text, errors, storage_options)\u001b[0m\n\u001b[1;32m    868\u001b[0m \u001b[38;5;28;01melif\u001b[39;00m \u001b[38;5;28misinstance\u001b[39m(handle, \u001b[38;5;28mstr\u001b[39m):\n\u001b[1;32m    869\u001b[0m     \u001b[38;5;66;03m# Check whether the filename is to be opened in binary mode.\u001b[39;00m\n\u001b[1;32m    870\u001b[0m     \u001b[38;5;66;03m# Binary mode does not support 'encoding' and 'newline'.\u001b[39;00m\n\u001b[1;32m    871\u001b[0m     \u001b[38;5;28;01mif\u001b[39;00m ioargs\u001b[38;5;241m.\u001b[39mencoding \u001b[38;5;129;01mand\u001b[39;00m \u001b[38;5;124m\"\u001b[39m\u001b[38;5;124mb\u001b[39m\u001b[38;5;124m\"\u001b[39m \u001b[38;5;129;01mnot\u001b[39;00m \u001b[38;5;129;01min\u001b[39;00m ioargs\u001b[38;5;241m.\u001b[39mmode:\n\u001b[1;32m    872\u001b[0m         \u001b[38;5;66;03m# Encoding\u001b[39;00m\n\u001b[0;32m--> 873\u001b[0m         handle \u001b[38;5;241m=\u001b[39m \u001b[38;5;28mopen\u001b[39m(\n\u001b[1;32m    874\u001b[0m             handle,\n\u001b[1;32m    875\u001b[0m             ioargs\u001b[38;5;241m.\u001b[39mmode,\n\u001b[1;32m    876\u001b[0m             encoding\u001b[38;5;241m=\u001b[39mioargs\u001b[38;5;241m.\u001b[39mencoding,\n\u001b[1;32m    877\u001b[0m             errors\u001b[38;5;241m=\u001b[39merrors,\n\u001b[1;32m    878\u001b[0m             newline\u001b[38;5;241m=\u001b[39m\u001b[38;5;124m\"\u001b[39m\u001b[38;5;124m\"\u001b[39m,\n\u001b[1;32m    879\u001b[0m         )\n\u001b[1;32m    880\u001b[0m     \u001b[38;5;28;01melse\u001b[39;00m:\n\u001b[1;32m    881\u001b[0m         \u001b[38;5;66;03m# Binary mode\u001b[39;00m\n\u001b[1;32m    882\u001b[0m         handle \u001b[38;5;241m=\u001b[39m \u001b[38;5;28mopen\u001b[39m(handle, ioargs\u001b[38;5;241m.\u001b[39mmode)\n",
      "\u001b[0;31mFileNotFoundError\u001b[0m: [Errno 2] No such file or directory: 'telecom_clients.csv'"
     ]
    }
   ],
   "source": [
    "clients = pd.read_csv(\"telecom_clients.csv\")\n",
    "\n",
    "calls = pd.read_csv(\"telecom_dataset_new.csv\")"
   ]
  },
  {
   "cell_type": "code",
   "execution_count": 3,
   "metadata": {},
   "outputs": [
    {
     "name": "stdout",
     "output_type": "stream",
     "text": [
      "calls shape: (53902, 9)\n",
      "clients shape: (732, 3)\n",
      "\n",
      "Primeras filas calls:\n",
      " user_id                      date direction internal  operator_id  is_missed_call  calls_count  call_duration  total_call_duration\n",
      "  166377 2019-08-04 00:00:00+03:00        in    False          NaN            True            2              0                    4\n",
      "  166377 2019-08-05 00:00:00+03:00       out     True     880022.0            True            3              0                    5\n",
      "  166377 2019-08-05 00:00:00+03:00       out     True     880020.0            True            1              0                    1\n",
      "\n",
      "Primeras filas clients:\n",
      " user_id tariff_plan date_start\n",
      "  166713           A 2019-08-15\n",
      "  166901           A 2019-08-23\n",
      "  168527           A 2019-10-29\n"
     ]
    }
   ],
   "source": [
    "print(\"calls shape:\", calls.shape)\n",
    "print(\"clients shape:\", clients.shape)\n",
    "print(\"\\nPrimeras filas calls:\")\n",
    "print(calls.head(3).to_string(index=False))\n",
    "print(\"\\nPrimeras filas clients:\")\n",
    "print(clients.head(3).to_string(index=False))"
   ]
  },
  {
   "cell_type": "code",
   "execution_count": 4,
   "metadata": {
    "editable": true,
    "slideshow": {
     "slide_type": ""
    },
    "tags": []
   },
   "outputs": [
    {
     "name": "stdout",
     "output_type": "stream",
     "text": [
      "\n",
      "Nulos por columna (calls):\n",
      "user_id                   0\n",
      "date                      0\n",
      "direction                 0\n",
      "internal                117\n",
      "operator_id            8172\n",
      "is_missed_call            0\n",
      "calls_count               0\n",
      "call_duration             0\n",
      "total_call_duration       0\n",
      "dtype: int64\n",
      "\n",
      "Nulos por columna (clients):\n",
      "user_id        0\n",
      "tariff_plan    0\n",
      "date_start     0\n",
      "dtype: int64\n"
     ]
    }
   ],
   "source": [
    "print(\"\\nNulos por columna (calls):\")\n",
    "print(calls.isna().sum())\n",
    "print(\"\\nNulos por columna (clients):\")\n",
    "print(clients.isna().sum())"
   ]
  },
  {
   "cell_type": "markdown",
   "metadata": {},
   "source": [
    "\n",
    "calls tiene 53,902 filas y clients tiene 732 filas.\n",
    "Se observan nulos en operator_id (8172) y algunos en internal.\n",
    "Los datos de clientes no tienen nulos.\n"
   ]
  },
  {
   "cell_type": "markdown",
   "metadata": {},
   "source": [
    "## Limpieza"
   ]
  },
  {
   "cell_type": "code",
   "execution_count": 5,
   "metadata": {},
   "outputs": [],
   "source": [
    "def clean_calls(calls):\n",
    "    calls = calls.copy()\n",
    "    # fechas\n",
    "    if 'date' in calls.columns:\n",
    "        calls['date'] = pd.to_datetime(calls['date'], errors='coerce')\n",
    "    # direction en minúsculas y fill\n",
    "    if 'direction' in calls.columns:\n",
    "        calls['direction'] = calls['direction'].astype(str).str.lower().fillna('unknown')\n",
    "    # booleans robustos\n",
    "    for col in ['is_missed_call', 'internal']:\n",
    "        if col in calls.columns:\n",
    "            calls[col] = calls[col].replace({True:1, False:0, 'True':1, 'False':0, 'true':1, 'false':0,\n",
    "                                             'Y':1,'N':0,'y':1,'n':0, '1':1, '0':0})\n",
    "            calls[col] = pd.to_numeric(calls[col], errors='coerce').fillna(0).astype(int)\n",
    "        else:\n",
    "            calls[col] = 0\n",
    "    # numericidad\n",
    "    for col in ['calls_count','call_duration','total_call_duration']:\n",
    "        if col in calls.columns:\n",
    "            calls[col] = pd.to_numeric(calls[col], errors='coerce').fillna(0)\n",
    "        else:\n",
    "            calls[col] = 0\n",
    "    # wait_time (no negativos)\n",
    "    calls['wait_time'] = (calls['total_call_duration'] - calls['call_duration']).clip(lower=0).fillna(0)\n",
    "    # flags\n",
    "    calls['is_incoming'] = (calls['direction']=='in').astype(int)\n",
    "    calls['is_outgoing'] = (calls['direction']=='out').astype(int)\n",
    "    calls['no_operator'] = calls['operator_id'].isna().astype(int)\n",
    "    return calls\n",
    "\n",
    "# Aplicar limpieza\n",
    "calls_clean = clean_calls(calls)\n",
    "\n"
   ]
  },
  {
   "cell_type": "markdown",
   "metadata": {},
   "source": [
    "## Análisis de llamadas"
   ]
  },
  {
   "cell_type": "code",
   "execution_count": 6,
   "metadata": {},
   "outputs": [
    {
     "name": "stdout",
     "output_type": "stream",
     "text": [
      "Total llamadas sin operator: 8172\n",
      "Top clients por llamadas sin operator (primeras 10 filas):\n",
      " user_id  calls_count\n",
      "  167626        25915\n",
      "  168361        18925\n",
      "  168252         6792\n",
      "  166405         6080\n",
      "  166582         5251\n",
      "  168187         2639\n",
      "  167071         2523\n",
      "  167650         2126\n",
      "  167189         2106\n",
      "  167521         2017\n"
     ]
    }
   ],
   "source": [
    "# Resumen de llamadas sin operator_id (no asignadas)\n",
    "noop = calls_clean[calls_clean['no_operator']==1]\n",
    "print(\"Total llamadas sin operator:\", len(noop))\n",
    "by_user_noop = noop.groupby('user_id')['calls_count'].sum().sort_values(ascending=False).reset_index()\n",
    "print(\"Top clients por llamadas sin operator (primeras 10 filas):\")\n",
    "print(by_user_noop.head(10).to_string(index=False))"
   ]
  },
  {
   "cell_type": "markdown",
   "metadata": {},
   "source": [
    "- Total: 8172 llamadas sin operador.\n",
    "\n",
    "- Algunos usuarios acumulan la gran mayoría (ejemplo: uno con 25,915 y otro con 18,925)."
   ]
  },
  {
   "cell_type": "markdown",
   "metadata": {},
   "source": [
    "## Agregación por operador"
   ]
  },
  {
   "cell_type": "code",
   "execution_count": 13,
   "metadata": {},
   "outputs": [
    {
     "name": "stdout",
     "output_type": "stream",
     "text": [
      "Operadores (filas): 1092\n",
      "                                 0            1           2           3           4\n",
      "operator_id                 879896       879898      880020      880022      880026\n",
      "total_calls                   1131         7974          54         219        2439\n",
      "incoming_calls                  23           64           8           8          19\n",
      "outgoing_calls                 105          187          14          68         179\n",
      "internal_calls                  16           16           3           8          14\n",
      "missed_calls                    50          100           7          33          94\n",
      "avg_wait_time_incoming       64.45    44.288136        7.25        14.0        9.56\n",
      "mean_call_duration      4039.23519  2756.355154  146.240741  295.073059  1539.97007\n",
      "days_reported                   50           84          14          42          77\n",
      "missed_rate_total         0.044209     0.012541     0.12963    0.150685     0.03854\n",
      "missed_rate_incoming      2.173913       1.5625       0.875       4.125    4.947368\n",
      "prop_incoming             0.020336     0.008026    0.148148     0.03653     0.00779\n",
      "prop_outgoing             0.092838     0.023451    0.259259    0.310502    0.073391\n",
      "user_id                     166406       166406      166377      166377      166377\n",
      "tariff_plan                      B            B           B           B           B\n",
      "incoming_calls_per_day        0.46     0.761905    0.571429    0.190476    0.246753\n"
     ]
    }
   ],
   "source": [
    "def operator_stats(calls, clients):\n",
    "    calls = calls.copy()\n",
    "    # trabajamos solo con filas que tienen operator_id\n",
    "    calls_with_op = calls[~calls['operator_id'].isna()].copy()\n",
    "    # intentar convertir operator_id a int si procede\n",
    "    try:\n",
    "        if np.all(np.mod(calls_with_op['operator_id'].dropna().astype(float), 1) == 0):\n",
    "            calls_with_op['operator_id'] = calls_with_op['operator_id'].astype(int)\n",
    "    except Exception:\n",
    "        pass\n",
    "\n",
    "    # incoming weighted wait\n",
    "    incoming = calls_with_op[calls_with_op['is_incoming']==1].copy()\n",
    "    incoming['wait_weighted'] = incoming['wait_time'] * incoming['calls_count']\n",
    "\n",
    "    grp = calls_with_op.groupby('operator_id')\n",
    "    total_calls = grp['calls_count'].sum()\n",
    "    incoming_calls = grp['is_incoming'].sum()\n",
    "    outgoing_calls = grp['is_outgoing'].sum()\n",
    "    internal_calls = grp['internal'].sum()\n",
    "    missed_calls = grp['is_missed_call'].sum()\n",
    "    total_wait_weighted = incoming.groupby('operator_id')['wait_weighted'].sum()\n",
    "    incoming_calls_for_wait = incoming.groupby('operator_id')['calls_count'].sum()\n",
    "\n",
    "    ops = pd.DataFrame({\n",
    "        'operator_id': total_calls.index,\n",
    "        'total_calls': total_calls.values,\n",
    "        'incoming_calls': incoming_calls.reindex(total_calls.index, fill_value=0).values,\n",
    "        'outgoing_calls': outgoing_calls.reindex(total_calls.index, fill_value=0).values,\n",
    "        'internal_calls': internal_calls.reindex(total_calls.index, fill_value=0).values,\n",
    "        'missed_calls': missed_calls.reindex(total_calls.index, fill_value=0).values\n",
    "    }).set_index('operator_id').reset_index()\n",
    "\n",
    "    ops['total_wait_weighted'] = total_wait_weighted.reindex(ops.index.map(lambda i: ops.loc[i,'operator_id']), fill_value=0).values\n",
    "    ops['incoming_calls_for_wait'] = incoming_calls_for_wait.reindex(ops['operator_id'], fill_value=0).values\n",
    "    ops['avg_wait_time_incoming'] = ops.apply(\n",
    "        lambda r: (r['total_wait_weighted'] / r['incoming_calls_for_wait']) if r['incoming_calls_for_wait']>0 else 0,\n",
    "        axis=1\n",
    "    )\n",
    "    # mean call duration (ponderado por calls_count)\n",
    "    mean_call_dur = grp.apply(lambda g: (g['call_duration'] * g['calls_count']).sum() / g['calls_count'].sum() if g['calls_count'].sum()>0 else 0)\n",
    "    ops['mean_call_duration'] = ops['operator_id'].map(mean_call_dur).fillna(0).values\n",
    "\n",
    "    # days reported\n",
    "    days = calls_with_op.groupby('operator_id')['date'].nunique()\n",
    "    ops['days_reported'] = ops['operator_id'].map(days).fillna(0).astype(int).values\n",
    "\n",
    "    # ratios\n",
    "    ops['missed_rate_total'] = ops['missed_calls'] / ops['total_calls'].replace(0, np.nan)\n",
    "    ops['missed_rate_incoming'] = ops['missed_calls'] / ops['incoming_calls'].replace(0, np.nan)\n",
    "    ops['missed_rate_total'] = ops['missed_rate_total'].fillna(0)\n",
    "    ops['missed_rate_incoming'] = ops['missed_rate_incoming'].fillna(0)\n",
    "    ops['prop_incoming'] = ops['incoming_calls'] / ops['total_calls'].replace(0, np.nan)\n",
    "    ops['prop_outgoing'] = ops['outgoing_calls'] / ops['total_calls'].replace(0, np.nan)\n",
    "    ops['prop_incoming'] = ops['prop_incoming'].fillna(0)\n",
    "    ops['prop_outgoing'] = ops['prop_outgoing'].fillna(0)\n",
    "\n",
    "    # map most frequent user_id per operator\n",
    "    op_user = calls_with_op.groupby('operator_id')['user_id'].agg(lambda x: x.mode().iloc[0] if not x.mode().empty else np.nan)\n",
    "    ops['user_id'] = ops['operator_id'].map(op_user).values\n",
    "\n",
    "    # merge tariff_plan if exists\n",
    "    if 'user_id' in clients.columns and 'tariff_plan' in clients.columns:\n",
    "        ops = ops.merge(clients[['user_id','tariff_plan']].drop_duplicates(), on='user_id', how='left')\n",
    "    else:\n",
    "        ops['tariff_plan'] = np.nan\n",
    "\n",
    "    # incoming per day\n",
    "    ops['incoming_calls_per_day'] = ops['incoming_calls'] / ops['days_reported'].replace(0, np.nan)\n",
    "    ops['incoming_calls_per_day'] = ops['incoming_calls_per_day'].fillna(0)\n",
    "\n",
    "    # cleanup temporary columns\n",
    "    ops = ops.drop(columns=['total_wait_weighted','incoming_calls_for_wait'], errors='ignore')\n",
    "    return ops\n",
    "\n",
    "ops = operator_stats(calls_clean, clients)\n",
    "print(\"Operadores (filas):\", ops.shape[0])\n",
    "print(ops.head().T.to_string())\n"
   ]
  },
  {
   "cell_type": "markdown",
   "metadata": {},
   "source": [
    "- Las mismas llamadas sin operador aparecen de nuevo.\n",
    "\n",
    "- Los operadores con operator_id válido se pueden analizar, pero la ausencia de 8,172 registros limita la cobertura."
   ]
  },
  {
   "cell_type": "markdown",
   "metadata": {},
   "source": [
    "## Criterios de ineficiencia y clasificar"
   ]
  },
  {
   "cell_type": "code",
   "execution_count": 8,
   "metadata": {},
   "outputs": [
    {
     "name": "stdout",
     "output_type": "stream",
     "text": [
      "Ineficientes (fijo): 0\n",
      "Ineficientes (percentil): 4\n"
     ]
    }
   ],
   "source": [
    "def classify_inefficiency(ops, th_missed=0.25, th_wait=60.0, out_z=-1.0, pct_top=0.9, pct_bottom=0.1, min_total_calls=20):\n",
    "    ops = ops.copy()\n",
    "    # filtrar operadores con muy baja actividad: marcarlos como 'no evaluar' si total_calls < min_total_calls\n",
    "    ops['enough_activity'] = ops['total_calls'] >= min_total_calls\n",
    "\n",
    "    # z-score prop_outgoing (robusto)\n",
    "    denom = ops['prop_outgoing'].std(ddof=0)\n",
    "    ops['outgoing_prop_z'] = 0 if denom==0 or np.isnan(denom) else (ops['prop_outgoing'] - ops['prop_outgoing'].mean()) / denom\n",
    "    if isinstance(ops['outgoing_prop_z'], (int, float)):\n",
    "        ops['outgoing_prop_z'] = ops['outgoing_prop_z']  # if denom 0 case\n",
    "\n",
    "    # Metodo fijo\n",
    "    ops['bad_missed_fixed'] = (ops['missed_rate_total'] > th_missed) & ops['enough_activity']\n",
    "    ops['bad_wait_fixed'] = (ops['avg_wait_time_incoming'] > th_wait) & ops['enough_activity']\n",
    "    ops['bad_outgoing_fixed'] = (ops['outgoing_prop_z'] < out_z) & ops['enough_activity']\n",
    "    ops['ineff_score_fixed'] = ops[['bad_missed_fixed','bad_wait_fixed','bad_outgoing_fixed']].sum(axis=1)\n",
    "    ops['is_inefficient_fixed'] = ops['ineff_score_fixed'] >= 2\n",
    "\n",
    "    # Percentil (relativo)\n",
    "    miss_th = ops['missed_rate_total'].quantile(pct_top)\n",
    "    wait_th = ops['avg_wait_time_incoming'].quantile(pct_top)\n",
    "    out_th = ops['prop_outgoing'].quantile(pct_bottom)\n",
    "    ops['bad_missed_pct'] = (ops['missed_rate_total'] >= miss_th) & ops['enough_activity']\n",
    "    ops['bad_wait_pct'] = (ops['avg_wait_time_incoming'] >= wait_th) & ops['enough_activity']\n",
    "    ops['bad_outgoing_pct'] = (ops['prop_outgoing'] <= out_th) & ops['enough_activity']\n",
    "    ops['ineff_score_pct'] = ops[['bad_missed_pct','bad_wait_pct','bad_outgoing_pct']].sum(axis=1)\n",
    "    ops['is_inefficient_pct'] = ops['ineff_score_pct'] >= 2\n",
    "\n",
    "    # union\n",
    "    ops['is_inefficient_any'] = ops['is_inefficient_fixed'] | ops['is_inefficient_pct']\n",
    "    return ops\n",
    "\n",
    "# Clasificar (ajusta min_total_calls si quieres)\n",
    "ops = classify_inefficiency(ops, th_missed=0.25, th_wait=60.0, out_z=-1.0, pct_top=0.90, pct_bottom=0.10, min_total_calls=20)\n",
    "\n",
    "# Top lists\n",
    "top_fixed = ops[ops['is_inefficient_fixed']].sort_values(['ineff_score_fixed','missed_rate_total'], ascending=[False, False]).head(20)\n",
    "top_pct = ops[ops['is_inefficient_pct']].sort_values(['ineff_score_pct','missed_rate_total'], ascending=[False, False]).head(20)\n",
    "print(\"Ineficientes (fijo):\", ops['is_inefficient_fixed'].sum())\n",
    "print(\"Ineficientes (percentil):\", ops['is_inefficient_pct'].sum())\n",
    "\n",
    "# Guardar CSVs de top\n",
    "out_dir = \".\"\n",
    "ops.to_csv(os.path.join(out_dir, \"operators_efficiency_analysis.csv\"), index=False)\n",
    "top_fixed.to_csv(os.path.join(out_dir, \"top20_inneficients_fixed.csv\"), index=False)\n",
    "top_pct.to_csv(os.path.join(out_dir, \"top20_inneficients_pct.csv\"), index=False)\n"
   ]
  },
  {
   "cell_type": "markdown",
   "metadata": {},
   "source": [
    "\n",
    "- Con criterios fijos 0 operadores ineficientes.\n",
    "\n",
    "- Con percentiles (ej. peores del 5%) → 4 operadores ineficientes.\n"
   ]
  },
  {
   "cell_type": "markdown",
   "metadata": {},
   "source": [
    "## Análisis por tarifa y pruebas estadísticas"
   ]
  },
  {
   "cell_type": "code",
   "execution_count": 9,
   "metadata": {},
   "outputs": [
    {
     "name": "stdout",
     "output_type": "stream",
     "text": [
      "Resumen ineficiencia por tarifa:\n",
      "tariff_plan     mean  count      std\n",
      "          A 0.225806    310 0.418788\n",
      "          C 0.224806    387 0.417995\n",
      "          B 0.210127    395 0.407915\n",
      "Número de planes: 3\n",
      "\n",
      "ANOVA:\n",
      "                     sum_sq      df         F   PR(>F)\n",
      "C(tariff_plan)    0.057845     2.0  0.168255  0.84516\n",
      "Residual        187.194903  1089.0       NaN      NaN\n",
      "\n",
      "Contingencia tarifa vs ineficiencia (fixed):\n",
      "is_inefficient_fixed  False\n",
      "tariff_plan                \n",
      "A                       310\n",
      "B                       395\n",
      "C                       387\n",
      "Chi2=0.000, p=1.0000, dof=0\n"
     ]
    }
   ],
   "source": [
    "# Filtramos operadores con plan\n",
    "ops_with_plan = ops.dropna(subset=['tariff_plan']).copy()\n",
    "\n",
    "# Resumen por tarifa\n",
    "summary_by_plan = ops_with_plan.groupby('tariff_plan')['ineff_score_fixed']\\\n",
    "    .agg(['mean','count','std']).reset_index().sort_values('mean', ascending=False)\n",
    "print(\"Resumen ineficiencia por tarifa:\")\n",
    "print(summary_by_plan.to_string(index=False))\n",
    "\n",
    "# ANOVA/T-test\n",
    "n_groups = ops_with_plan['tariff_plan'].nunique()\n",
    "print(\"Número de planes:\", n_groups)\n",
    "if n_groups >= 3:\n",
    "    model = ols('ineff_score_fixed ~ C(tariff_plan)', data=ops_with_plan).fit()\n",
    "    anova_table = sm.stats.anova_lm(model, typ=2)\n",
    "    print(\"\\nANOVA:\\n\", anova_table)\n",
    "elif n_groups == 2:\n",
    "    groups = [g['ineff_score_fixed'].values for n,g in ops_with_plan.groupby('tariff_plan')]\n",
    "    tstat, pval = stats.ttest_ind(groups[0], groups[1], equal_var=False)\n",
    "    print(f\"\\nT-test: t={tstat:.4f}, p={pval:.4f}\")\n",
    "else:\n",
    "    print(\"\\nNo hay suficientes datos por tarifa para pruebas.\")\n",
    "\n",
    "# Chi-square: plan vs is_inefficient_fixed\n",
    "ct = pd.crosstab(ops_with_plan['tariff_plan'], ops_with_plan['is_inefficient_fixed'])\n",
    "print(\"\\nContingencia tarifa vs ineficiencia (fixed):\")\n",
    "print(ct.to_string())\n",
    "chi2, p, dof, ex = stats.chi2_contingency(ct) if ct.size>0 else (np.nan, np.nan, np.nan, None)\n",
    "print(f\"Chi2={chi2:.3f}, p={p:.4f}, dof={dof}\")\n"
   ]
  },
  {
   "cell_type": "markdown",
   "metadata": {},
   "source": [
    "\n",
    "- Promedio de ineficiencia por plan (A=22.5%, B=21%, C=22.4%).\n",
    "- ANOVA: p=0.845, sin diferencias significativas entre tarifas.\n",
    "- Chi-cuadrado: p=1.0, ninguna relación entre plan y ser ineficiente.\n"
   ]
  },
  {
   "cell_type": "markdown",
   "metadata": {},
   "source": [
    "## Tests comparativos y correlaciones"
   ]
  },
  {
   "cell_type": "code",
   "execution_count": 10,
   "metadata": {},
   "outputs": [
    {
     "name": "stdout",
     "output_type": "stream",
     "text": [
      "Correlación (Spearman) entre métricas clave:\n",
      "                        missed_rate_total  avg_wait_time_incoming  prop_outgoing  total_calls\n",
      "missed_rate_total                1.000000               -0.133798       0.797022    -0.129250\n",
      "avg_wait_time_incoming          -0.133798                1.000000      -0.270004     0.203236\n",
      "prop_outgoing                    0.797022               -0.270004       1.000000    -0.223628\n",
      "total_calls                     -0.129250                0.203236      -0.223628     1.000000\n",
      "\n",
      "Mann-Whitney tests inefficient vs efficient (fixed):\n",
      "missed_rate_total : `x` and `y` must be of nonzero size.\n",
      "avg_wait_time_incoming : `x` and `y` must be of nonzero size.\n",
      "prop_outgoing : `x` and `y` must be of nonzero size.\n",
      "total_calls : `x` and `y` must be of nonzero size.\n"
     ]
    }
   ],
   "source": [
    "# Correlaciones (Spearman)\n",
    "metrics = ['missed_rate_total','avg_wait_time_incoming','prop_outgoing','total_calls']\n",
    "corr = ops[metrics].corr(method='spearman').fillna(0)\n",
    "print(\"Correlación (Spearman) entre métricas clave:\")\n",
    "print(corr.to_string())\n",
    "\n",
    "# Comparación: ineficientes vs eficientes (Mann-Whitney U)\n",
    "ineff = ops[ops['is_inefficient_fixed']]\n",
    "eff = ops[~ops['is_inefficient_fixed']]\n",
    "from scipy import stats as sps\n",
    "test_results = {}\n",
    "for col in ['missed_rate_total','avg_wait_time_incoming','prop_outgoing','total_calls']:\n",
    "    try:\n",
    "        u,p = sps.mannwhitneyu(ineff[col], eff[col], alternative='two-sided')\n",
    "        test_results[col] = (float(u), float(p))\n",
    "    except Exception as e:\n",
    "        test_results[col] = str(e)\n",
    "print(\"\\nMann-Whitney tests inefficient vs efficient (fixed):\")\n",
    "for k,v in test_results.items():\n",
    "    print(k, \":\", v)\n"
   ]
  },
  {
   "cell_type": "markdown",
   "metadata": {},
   "source": [
    "\n",
    "- Correlación fuerte: missed_rate_total con prop_outgoing (ρ=0.79).\n",
    "\n",
    "- Correlaciones débiles o moderadas: avg_wait_time_incoming negativo con las demás.\n",
    "\n",
    "- Los tests de Mann-Whitney fall\n",
    "aron porque no había operadores en el grupo “ineficiente fijo”.\n"
   ]
  },
  {
   "cell_type": "markdown",
   "metadata": {},
   "source": [
    "## Visualizaciones"
   ]
  },
  {
   "cell_type": "code",
   "execution_count": 11,
   "metadata": {},
   "outputs": [
    {
     "data": {
      "image/png": "[encoded data removed]",
      "text/plain": [
       "<Figure size 800x400 with 1 Axes>"
      ]
     },
     "metadata": {},
     "output_type": "display_data"
    },
    {
     "data": {
      "image/png": "[encoded data removed]",
      "text/plain": [
       "<Figure size 800x400 with 1 Axes>"
      ]
     },
     "metadata": {},
     "output_type": "display_data"
    },
    {
     "data": {
      "image/png": "[encoded data removed]",
      "text/plain": [
       "<Figure size 700x500 with 1 Axes>"
      ]
     },
     "metadata": {},
     "output_type": "display_data"
    }
   ],
   "source": [
    "# Histograma missed_rate\n",
    "plt.figure(figsize=(8,4))\n",
    "plt.hist(ops['missed_rate_total'].dropna(), bins=40)\n",
    "plt.title(\"Distribución missed_rate_total por operador\")\n",
    "plt.xlabel(\"missed_rate_total\")\n",
    "plt.ylabel(\"n operadores\")\n",
    "plt.grid(alpha=0.3)\n",
    "plt.savefig(\"hist_missed_rate_total.png\", dpi=150, bbox_inches='tight')\n",
    "plt.show()\n",
    "\n",
    "# Histograma avg_wait_time_incoming\n",
    "plt.figure(figsize=(8,4))\n",
    "plt.hist(ops['avg_wait_time_incoming'].dropna(), bins=40)\n",
    "plt.title(\"Distribución avg_wait_time_incoming (s)\")\n",
    "plt.xlabel(\"avg_wait_time_incoming (s)\")\n",
    "plt.ylabel(\"n operadores\")\n",
    "plt.grid(alpha=0.3)\n",
    "plt.savefig(\"hist_avg_wait_time_incoming.png\", dpi=150, bbox_inches='tight')\n",
    "plt.show()\n",
    "\n",
    "# Scatter missed vs wait, coloreado por ineficiencia (fixed)\n",
    "plt.figure(figsize=(7,5))\n",
    "colors = ops['is_inefficient_fixed'].map({True:'red', False:'blue'})\n",
    "plt.scatter(ops['avg_wait_time_incoming'], ops['missed_rate_total'], c=colors, alpha=0.6)\n",
    "plt.xlabel(\"avg_wait_time_incoming (s)\")\n",
    "plt.ylabel(\"missed_rate_total\")\n",
    "plt.title(\"Missed rate vs Avg wait time (por operador)\")\n",
    "plt.grid(alpha=0.3)\n",
    "plt.savefig(\"scatter_wait_vs_missed.png\", dpi=150, bbox_inches='tight')\n",
    "plt.show()"
   ]
  },
  {
   "cell_type": "markdown",
   "metadata": {},
   "source": [
    "- Distribuciones sesgadas (colas largas a la derecha) en tasa de llamadas perdidas y tiempo de espera.\n",
    "\n",
    "- Relación entre missed_rate y avg_wait_time muestra que los peores casos son pocos, pero extremos."
   ]
  },
  {
   "cell_type": "markdown",
   "metadata": {},
   "source": [
    "## Conclusión"
   ]
  },
  {
   "cell_type": "markdown",
   "metadata": {},
   "source": [
    "\n",
    "- La mayoría de operadores son eficientes, y con criterios estrictos no se detectan ineficiencias graves.\n",
    "\n",
    "- Un pequeño grupo (≈5%) muestra ineficiencias relativas si usamos criterios comparativos (percentiles).\n",
    "\n",
    "- No hay relación entre el plan tarifario del cliente y la ineficiencia de los operadores.\n",
    "\n",
    "- Las ineficiencias se concentran en outliers, lo que sugiere que el foco debería estar en monitorear y dar soporte específico a esos pocos operadores, más que en rediseñar todo el sistema.\n"
   ]
  }
 ],
 "metadata": {
  "kernelspec": {
   "display_name": "Python 3 (ipykernel)",
   "language": "python",
   "name": "python3"
  },
  "language_info": {
   "codemirror_mode": {
    "name": "ipython",
    "version": 3
   },
   "file_extension": ".py",
   "mimetype": "text/x-python",
   "name": "python",
   "nbconvert_exporter": "python",
   "pygments_lexer": "ipython3",
   "version": "3.12.7"
  }
 },
 "nbformat": 4,
 "nbformat_minor": 4
}
